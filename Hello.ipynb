{
 "cells": [
  {
   "cell_type": "markdown",
   "id": "3b00f2d1",
   "metadata": {},
   "source": [
    "# Practical 1: Hello"
   ]
  },
  {
   "cell_type": "code",
   "execution_count": 1,
   "id": "1dc6f40b",
   "metadata": {},
   "outputs": [
    {
     "data": {
      "text/plain": [
       "25"
      ]
     },
     "execution_count": 1,
     "metadata": {},
     "output_type": "execute_result"
    }
   ],
   "source": [
    "5*5"
   ]
  },
  {
   "cell_type": "code",
   "execution_count": 2,
   "id": "e2a4990e",
   "metadata": {},
   "outputs": [
    {
     "data": {
      "text/plain": [
       "83"
      ]
     },
     "execution_count": 2,
     "metadata": {},
     "output_type": "execute_result"
    }
   ],
   "source": [
    "88-5"
   ]
  },
  {
   "cell_type": "code",
   "execution_count": 3,
   "id": "e051ba9c",
   "metadata": {},
   "outputs": [
    {
     "data": {
      "text/plain": [
       "0.875"
      ]
     },
     "execution_count": 3,
     "metadata": {},
     "output_type": "execute_result"
    }
   ],
   "source": [
    "7/8"
   ]
  },
  {
   "cell_type": "code",
   "execution_count": 4,
   "id": "fb6331c2",
   "metadata": {},
   "outputs": [
    {
     "data": {
      "text/plain": [
       "11"
      ]
     },
     "execution_count": 4,
     "metadata": {},
     "output_type": "execute_result"
    }
   ],
   "source": [
    "9+2"
   ]
  },
  {
   "cell_type": "code",
   "execution_count": 5,
   "id": "a40f0042",
   "metadata": {},
   "outputs": [
    {
     "data": {
      "text/plain": [
       "32"
      ]
     },
     "execution_count": 5,
     "metadata": {},
     "output_type": "execute_result"
    }
   ],
   "source": [
    "2**5"
   ]
  },
  {
   "cell_type": "code",
   "execution_count": 7,
   "id": "fee5b3dd",
   "metadata": {},
   "outputs": [
    {
     "data": {
      "text/plain": [
       "1750.75"
      ]
     },
     "execution_count": 7,
     "metadata": {},
     "output_type": "execute_result"
    }
   ],
   "source": [
    "4650+135-54*547/8+658"
   ]
  },
  {
   "cell_type": "code",
   "execution_count": 8,
   "id": "f958875d",
   "metadata": {},
   "outputs": [
    {
     "data": {
      "text/plain": [
       "-52"
      ]
     },
     "execution_count": 8,
     "metadata": {},
     "output_type": "execute_result"
    }
   ],
   "source": [
    "2**5+6-9*10"
   ]
  },
  {
   "cell_type": "code",
   "execution_count": 11,
   "id": "5bac7097",
   "metadata": {},
   "outputs": [
    {
     "data": {
      "text/plain": [
       "42.53023346125731"
      ]
     },
     "execution_count": 11,
     "metadata": {},
     "output_type": "execute_result"
    }
   ],
   "source": [
    "14+24*764/513+5/512-65/9"
   ]
  }
 ],
 "metadata": {
  "kernelspec": {
   "display_name": "Python 3 (ipykernel)",
   "language": "python",
   "name": "python3"
  },
  "language_info": {
   "codemirror_mode": {
    "name": "ipython",
    "version": 3
   },
   "file_extension": ".py",
   "mimetype": "text/x-python",
   "name": "python",
   "nbconvert_exporter": "python",
   "pygments_lexer": "ipython3",
   "version": "3.9.12"
  }
 },
 "nbformat": 4,
 "nbformat_minor": 5
}
