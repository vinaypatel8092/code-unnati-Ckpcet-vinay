{
 "cells": [
  {
   "cell_type": "markdown",
   "id": "760f3862",
   "metadata": {},
   "source": [
    "# Unit 1 Python Fundamentals"
   ]
  },
  {
   "cell_type": "code",
   "execution_count": 1,
   "id": "d686bd8a",
   "metadata": {},
   "outputs": [
    {
     "name": "stdout",
     "output_type": "stream",
     "text": [
      "Namste CKPCET\n"
     ]
    }
   ],
   "source": [
    "#my first python program\n",
    "print(\"Namste CKPCET\")"
   ]
  },
  {
   "cell_type": "code",
   "execution_count": 2,
   "id": "e327dfdc",
   "metadata": {},
   "outputs": [
    {
     "name": "stdout",
     "output_type": "stream",
     "text": [
      "Hello Surat\n"
     ]
    }
   ],
   "source": [
    "print(\"Hello Surat\")"
   ]
  },
  {
   "cell_type": "code",
   "execution_count": 3,
   "id": "b81c24b7",
   "metadata": {},
   "outputs": [
    {
     "name": "stdout",
     "output_type": "stream",
     "text": [
      "hello\n"
     ]
    }
   ],
   "source": [
    "print(\"hello\")"
   ]
  },
  {
   "cell_type": "code",
   "execution_count": 4,
   "id": "69316a97",
   "metadata": {},
   "outputs": [],
   "source": [
    "a=33"
   ]
  },
  {
   "cell_type": "code",
   "execution_count": 5,
   "id": "bff5b5e8",
   "metadata": {},
   "outputs": [
    {
     "name": "stdout",
     "output_type": "stream",
     "text": [
      "33\n"
     ]
    }
   ],
   "source": [
    "print(a)"
   ]
  },
  {
   "cell_type": "code",
   "execution_count": 6,
   "id": "d9e8e208",
   "metadata": {},
   "outputs": [
    {
     "data": {
      "text/plain": [
       "33"
      ]
     },
     "execution_count": 6,
     "metadata": {},
     "output_type": "execute_result"
    }
   ],
   "source": [
    "a"
   ]
  },
  {
   "cell_type": "code",
   "execution_count": 7,
   "id": "551de478",
   "metadata": {},
   "outputs": [
    {
     "name": "stdout",
     "output_type": "stream",
     "text": [
      "5\n",
      "5.5\n",
      "hello\n",
      "True\n"
     ]
    }
   ],
   "source": [
    "a = 5\n",
    "b= 5.5\n",
    "c = \"hello\"\n",
    "d = True\n",
    "print(a)\n",
    "print(b)\n",
    "print(c)\n",
    "print(d)"
   ]
  },
  {
   "cell_type": "code",
   "execution_count": 8,
   "id": "a84d75aa",
   "metadata": {},
   "outputs": [
    {
     "data": {
      "text/plain": [
       "float"
      ]
     },
     "execution_count": 8,
     "metadata": {},
     "output_type": "execute_result"
    }
   ],
   "source": [
    "type(b)"
   ]
  },
  {
   "cell_type": "code",
   "execution_count": 9,
   "id": "fb9996a9",
   "metadata": {},
   "outputs": [
    {
     "data": {
      "text/plain": [
       "int"
      ]
     },
     "execution_count": 9,
     "metadata": {},
     "output_type": "execute_result"
    }
   ],
   "source": [
    "type(a)"
   ]
  },
  {
   "cell_type": "code",
   "execution_count": 10,
   "id": "891e6686",
   "metadata": {},
   "outputs": [
    {
     "data": {
      "text/plain": [
       "str"
      ]
     },
     "execution_count": 10,
     "metadata": {},
     "output_type": "execute_result"
    }
   ],
   "source": [
    "type(c)"
   ]
  },
  {
   "cell_type": "code",
   "execution_count": 11,
   "id": "d774eca9",
   "metadata": {},
   "outputs": [
    {
     "data": {
      "text/plain": [
       "bool"
      ]
     },
     "execution_count": 11,
     "metadata": {},
     "output_type": "execute_result"
    }
   ],
   "source": [
    "type(d)"
   ]
  },
  {
   "cell_type": "code",
   "execution_count": 12,
   "id": "1555c67d",
   "metadata": {},
   "outputs": [
    {
     "name": "stdout",
     "output_type": "stream",
     "text": [
      "Type of a <class 'int'>\n",
      "Type of b <class 'float'>\n",
      "Type of c <class 'str'>\n",
      "Type of d <class 'bool'>\n",
      "Type of e <class 'int'>\n",
      "Type of f <class 'str'>\n",
      "Type of g <class 'str'>\n",
      "Type of h <class 'bool'>\n",
      "Type of i <class 'float'>\n"
     ]
    }
   ],
   "source": [
    "a=5\n",
    "b=56.5\n",
    "c=\"hello\"\n",
    "d=True\n",
    "e=56\n",
    "f='hi'\n",
    "g=\"hey\"\n",
    "h=False\n",
    "i=98.33\n",
    "print(\"Type of a\",type(a))\n",
    "print(\"Type of b\",type(b))\n",
    "print(\"Type of c\",type(c))\n",
    "print(\"Type of d\",type(d))\n",
    "print(\"Type of e\",type(e))\n",
    "print(\"Type of f\",type(f))\n",
    "print(\"Type of g\",type(g))\n",
    "print(\"Type of h\",type(h))\n",
    "print(\"Type of i\",type(i))\n",
    "\n"
   ]
  },
  {
   "cell_type": "code",
   "execution_count": 13,
   "id": "dae10851",
   "metadata": {},
   "outputs": [
    {
     "name": "stdout",
     "output_type": "stream",
     "text": [
      "Enter the value of x: 5\n",
      "Enter the value of y: 6\n",
      "Sum = 11\n",
      "multiplication = 30\n",
      "division = 0.8333333333333334\n",
      "Subtraction = -1\n"
     ]
    }
   ],
   "source": [
    "x=int(input(\"Enter the value of x: \"))\n",
    "y=int(input(\"Enter the value of y: \"))\n",
    "print(\"Sum =\",x+y)\n",
    "print(\"multiplication =\",x*y)\n",
    "print(\"division =\",x/y)\n",
    "print(\"Subtraction =\",x-y)\n",
    "\n",
    "\n"
   ]
  },
  {
   "cell_type": "code",
   "execution_count": 14,
   "id": "86878924",
   "metadata": {},
   "outputs": [
    {
     "name": "stdout",
     "output_type": "stream",
     "text": [
      "Enter your first Name:-Modi\n",
      "Enter your Middle Name:-Parth\n",
      "Enter your Last Name:-Milankumar\n",
      "Your First Name = Modi\n",
      "Your Middle Name= Parth\n",
      "Your Last Name = Milankumar\n",
      "Your Full Name is Modi Parth Milankumar\n",
      "Length Of first Name is 4\n",
      "Length Of Middle Name is 5\n",
      "Length Of Last Name is 10\n"
     ]
    }
   ],
   "source": [
    "str1=input(\"Enter your first Name:-\")\n",
    "str2=input(\"Enter your Middle Name:-\")\n",
    "str3=input(\"Enter your Last Name:-\")\n",
    "print(\"Your First Name =\",str1)\n",
    "print(\"Your Middle Name=\",str2)\n",
    "print(\"Your Last Name =\",str3)\n",
    "print(\"Your Full Name is\",str1,str2,str3)\n",
    "print(\"Length Of first Name is\",len(str1))\n",
    "print(\"Length Of Middle Name is\",len(str2))\n",
    "print(\"Length Of Last Name is\",len(str3))\n"
   ]
  },
  {
   "cell_type": "code",
   "execution_count": 28,
   "id": "9cc4f683",
   "metadata": {},
   "outputs": [
    {
     "data": {
      "text/plain": [
       "'Mod'"
      ]
     },
     "execution_count": 28,
     "metadata": {},
     "output_type": "execute_result"
    }
   ],
   "source": [
    "str1[0:3]\n"
   ]
  },
  {
   "cell_type": "code",
   "execution_count": 30,
   "id": "554b5a22",
   "metadata": {},
   "outputs": [
    {
     "data": {
      "text/plain": [
       "'Par'"
      ]
     },
     "execution_count": 30,
     "metadata": {},
     "output_type": "execute_result"
    }
   ],
   "source": [
    "str2[0:3]\n"
   ]
  },
  {
   "cell_type": "code",
   "execution_count": 33,
   "id": "3276035f",
   "metadata": {},
   "outputs": [
    {
     "data": {
      "text/plain": [
       "'la'"
      ]
     },
     "execution_count": 33,
     "metadata": {},
     "output_type": "execute_result"
    }
   ],
   "source": [
    "str3[2:4]\n"
   ]
  },
  {
   "cell_type": "markdown",
   "id": "9dae350c",
   "metadata": {},
   "source": [
    "# Tuple"
   ]
  },
  {
   "cell_type": "code",
   "execution_count": 37,
   "id": "af51a026",
   "metadata": {},
   "outputs": [
    {
     "name": "stdout",
     "output_type": "stream",
     "text": [
      "('hello', 67, 'hi', 'hey', 89.3)\n"
     ]
    },
    {
     "data": {
      "text/plain": [
       "tuple"
      ]
     },
     "execution_count": 37,
     "metadata": {},
     "output_type": "execute_result"
    }
   ],
   "source": [
    "tup1=(\"hello\",67,\"hi\",'hey',89.3)\n",
    "print(tup1)\n",
    "type(tup1)"
   ]
  },
  {
   "cell_type": "code",
   "execution_count": 39,
   "id": "3d95c0b6",
   "metadata": {},
   "outputs": [
    {
     "data": {
      "text/plain": [
       "89.3"
      ]
     },
     "execution_count": 39,
     "metadata": {},
     "output_type": "execute_result"
    }
   ],
   "source": [
    "tup1[4]"
   ]
  },
  {
   "cell_type": "code",
   "execution_count": 41,
   "id": "00eeb51b",
   "metadata": {},
   "outputs": [
    {
     "data": {
      "text/plain": [
       "('hey', 89.3)"
      ]
     },
     "execution_count": 41,
     "metadata": {},
     "output_type": "execute_result"
    }
   ],
   "source": [
    "tup1[3:5]"
   ]
  },
  {
   "cell_type": "markdown",
   "id": "47b5a42a",
   "metadata": {},
   "source": [
    "# List"
   ]
  },
  {
   "cell_type": "code",
   "execution_count": 68,
   "id": "5a9acb6b",
   "metadata": {},
   "outputs": [
    {
     "data": {
      "text/plain": [
       "['hello', 89, 'jj', 89.36, 'jengo']"
      ]
     },
     "execution_count": 68,
     "metadata": {},
     "output_type": "execute_result"
    }
   ],
   "source": [
    "list1=[\"hello\",89,'jj',89.36,\"jengo\"]\n",
    "list1"
   ]
  },
  {
   "cell_type": "code",
   "execution_count": 75,
   "id": "6ff29b29",
   "metadata": {},
   "outputs": [
    {
     "name": "stdout",
     "output_type": "stream",
     "text": [
      "['hello', 'ee', 'ee', 'ee', 'ee', 'ee', 'ee', 89, 'jj', 89.36, 'jengo', 'ee', 'ee', 'ee', 'ee', 'ee', 'ee', 'ee']\n"
     ]
    },
    {
     "data": {
      "text/plain": [
       "18"
      ]
     },
     "execution_count": 75,
     "metadata": {},
     "output_type": "execute_result"
    }
   ],
   "source": [
    "list1.append(\"ee\")\n",
    "list1.insert(1,\"ee\")\n",
    "print(list1)\n",
    "len(list1)"
   ]
  },
  {
   "cell_type": "code",
   "execution_count": 77,
   "id": "1dbb3073",
   "metadata": {},
   "outputs": [],
   "source": [
    "list1.remove(\"ee\")"
   ]
  },
  {
   "cell_type": "code",
   "execution_count": 79,
   "id": "1267366a",
   "metadata": {},
   "outputs": [
    {
     "data": {
      "text/plain": [
       "['hello',\n",
       " 'ee',\n",
       " 'ee',\n",
       " 'ee',\n",
       " 'ee',\n",
       " 89,\n",
       " 'jj',\n",
       " 89.36,\n",
       " 'jengo',\n",
       " 'ee',\n",
       " 'ee',\n",
       " 'ee',\n",
       " 'ee',\n",
       " 'ee',\n",
       " 'ee',\n",
       " 'ee']"
      ]
     },
     "execution_count": 79,
     "metadata": {},
     "output_type": "execute_result"
    }
   ],
   "source": [
    "list1"
   ]
  },
  {
   "cell_type": "code",
   "execution_count": 82,
   "id": "ac726b88",
   "metadata": {},
   "outputs": [
    {
     "ename": "ValueError",
     "evalue": "list.remove(x): x not in list",
     "output_type": "error",
     "traceback": [
      "\u001b[1;31m---------------------------------------------------------------------------\u001b[0m",
      "\u001b[1;31mValueError\u001b[0m                                Traceback (most recent call last)",
      "Input \u001b[1;32mIn [82]\u001b[0m, in \u001b[0;36m<cell line: 1>\u001b[1;34m()\u001b[0m\n\u001b[1;32m----> 1\u001b[0m \u001b[43mlist1\u001b[49m\u001b[38;5;241;43m.\u001b[39;49m\u001b[43mremove\u001b[49m\u001b[43m(\u001b[49m\u001b[38;5;124;43m'\u001b[39;49m\u001b[38;5;124;43mjengo\u001b[39;49m\u001b[38;5;124;43m'\u001b[39;49m\u001b[43m)\u001b[49m\n",
      "\u001b[1;31mValueError\u001b[0m: list.remove(x): x not in list"
     ]
    }
   ],
   "source": [
    "list1.remove('jengo')"
   ]
  },
  {
   "cell_type": "code",
   "execution_count": 86,
   "id": "70692798",
   "metadata": {},
   "outputs": [
    {
     "ename": "ValueError",
     "evalue": "list.remove(x): x not in list",
     "output_type": "error",
     "traceback": [
      "\u001b[1;31m---------------------------------------------------------------------------\u001b[0m",
      "\u001b[1;31mValueError\u001b[0m                                Traceback (most recent call last)",
      "Input \u001b[1;32mIn [86]\u001b[0m, in \u001b[0;36m<cell line: 1>\u001b[1;34m()\u001b[0m\n\u001b[1;32m----> 1\u001b[0m \u001b[43mlist1\u001b[49m\u001b[38;5;241;43m.\u001b[39;49m\u001b[43mremove\u001b[49m\u001b[43m(\u001b[49m\u001b[38;5;124;43m'\u001b[39;49m\u001b[38;5;124;43mjj\u001b[39;49m\u001b[38;5;124;43m'\u001b[39;49m\u001b[43m)\u001b[49m\n",
      "\u001b[1;31mValueError\u001b[0m: list.remove(x): x not in list"
     ]
    }
   ],
   "source": [
    "list1.remove('jj')\n",
    "\n"
   ]
  },
  {
   "cell_type": "code",
   "execution_count": 88,
   "id": "a541641c",
   "metadata": {},
   "outputs": [
    {
     "name": "stdout",
     "output_type": "stream",
     "text": [
      "['hello', 'ee', 'ee', 'ee', 'ee', 89, 89.36, 'ee', 'ee', 'ee', 'ee', 'ee', 'ee', 'ee']\n"
     ]
    }
   ],
   "source": [
    "print(list1)"
   ]
  },
  {
   "cell_type": "markdown",
   "id": "7d34020e",
   "metadata": {},
   "source": [
    "# Dictionary \n"
   ]
  },
  {
   "cell_type": "markdown",
   "id": "1e3b4140",
   "metadata": {},
   "source": [
    "dis1={1:\"jengo\",2:56,3:\"Surat\"}\n",
    "dis1"
   ]
  },
  {
   "cell_type": "code",
   "execution_count": 92,
   "id": "9d7e029b",
   "metadata": {},
   "outputs": [
    {
     "name": "stdout",
     "output_type": "stream",
     "text": [
      "<class 'dict'>\n"
     ]
    }
   ],
   "source": [
    "print(type(dis1))"
   ]
  },
  {
   "cell_type": "code",
   "execution_count": 94,
   "id": "a6d3a44f",
   "metadata": {},
   "outputs": [
    {
     "name": "stdout",
     "output_type": "stream",
     "text": [
      "3\n"
     ]
    }
   ],
   "source": [
    "print(len(dis1))"
   ]
  },
  {
   "cell_type": "code",
   "execution_count": 98,
   "id": "a77b6bdb",
   "metadata": {},
   "outputs": [
    {
     "data": {
      "text/plain": [
       "dict_keys([1, 2, 3])"
      ]
     },
     "execution_count": 98,
     "metadata": {},
     "output_type": "execute_result"
    }
   ],
   "source": [
    "dis1.keys()"
   ]
  },
  {
   "cell_type": "markdown",
   "id": "b32e0fca",
   "metadata": {},
   "source": [
    "# If else Statement"
   ]
  },
  {
   "cell_type": "code",
   "execution_count": 101,
   "id": "a3e0ceae",
   "metadata": {},
   "outputs": [
    {
     "name": "stdout",
     "output_type": "stream",
     "text": [
      "Enter Any Number:--5\n",
      "Number is Negative\n"
     ]
    }
   ],
   "source": [
    "x=int(input(\"Enter Any Number:-\"))\n",
    "if x>0 :\n",
    "    print(\"Number is positive\")\n",
    "else:\n",
    "    print(\"Number is Negative\")"
   ]
  }
 ],
 "metadata": {
  "kernelspec": {
   "display_name": "Python 3 (ipykernel)",
   "language": "python",
   "name": "python3"
  },
  "language_info": {
   "codemirror_mode": {
    "name": "ipython",
    "version": 3
   },
   "file_extension": ".py",
   "mimetype": "text/x-python",
   "name": "python",
   "nbconvert_exporter": "python",
   "pygments_lexer": "ipython3",
   "version": "3.9.12"
  }
 },
 "nbformat": 4,
 "nbformat_minor": 5
}
