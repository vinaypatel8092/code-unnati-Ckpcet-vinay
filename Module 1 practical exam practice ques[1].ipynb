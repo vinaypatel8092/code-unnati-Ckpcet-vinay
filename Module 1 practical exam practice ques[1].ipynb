{
 "cells": [
  {
   "cell_type": "code",
   "execution_count": 3,
   "id": "319fd4a7",
   "metadata": {},
   "outputs": [
    {
     "name": "stdout",
     "output_type": "stream",
     "text": [
      "before Swapping:\n",
      "[45, 65, 87, 2, 10]\n",
      "after swapping:\n",
      "[10, 65, 87, 2, 45]\n"
     ]
    }
   ],
   "source": [
    "# Write a Python program to swap first and last element of the list\n",
    "\n",
    "list = [45,65,87,2,10]\n",
    "print(\"before Swapping:\")\n",
    "print(list)\n",
    "size = len(list)\n",
    "\n",
    "list[0],list[size-1] = list[size-1], list[0]\n",
    "print(\"after swapping:\")\n",
    "print(list)"
   ]
  },
  {
   "cell_type": "code",
   "execution_count": 6,
   "id": "56963c46",
   "metadata": {},
   "outputs": [
    {
     "name": "stdout",
     "output_type": "stream",
     "text": [
      "the list of elemets are:  [20, 54, 25, 30, 70, 7]\n",
      "the length of list is:  6\n"
     ]
    }
   ],
   "source": [
    "# Write Python program to find the length of list using for loop\n",
    "\n",
    "list = [20,54,25,30,70,7]\n",
    "\n",
    "print(\"the list of elemets are: \",str(list))\n",
    "element = 0\n",
    "\n",
    "for i in list:\n",
    "    \n",
    "    element = element + 1\n",
    "\n",
    "print(\"the length of list is: \", str(len(list)))"
   ]
  },
  {
   "cell_type": "code",
   "execution_count": 9,
   "id": "91ec5bf5",
   "metadata": {},
   "outputs": [
    {
     "name": "stdout",
     "output_type": "stream",
     "text": [
      "90\n"
     ]
    }
   ],
   "source": [
    "#  Given a list of numbers, you need to write a Python program to find the second largest number in the\n",
    "# list.\n",
    "\n",
    "a=[10,56,23,89,23,45,90,110,34,78]\n",
    "\n",
    "a_list = set(a)\n",
    "\n",
    "a_list.remove(max(a_list))\n",
    "\n",
    "print(max(a_list))"
   ]
  },
  {
   "cell_type": "code",
   "execution_count": 10,
   "id": "57eff018",
   "metadata": {},
   "outputs": [
    {
     "name": "stdout",
     "output_type": "stream",
     "text": [
      "Enter First Number: 50\n",
      "Enter Second Number: 25\n",
      "Enter which operation would you like to perform?\n",
      "Enter any of these char for specific operation +,-,*,/,//,%: %\n",
      "50 % 25 : 0\n"
     ]
    }
   ],
   "source": [
    "# Write a program to perform addition, subtraction, multiplication, integer division, floor division and\n",
    "# modulo division on two integer and float.\n",
    "\n",
    "# Using Int Numbers:\n",
    "\n",
    "num1 = int(input(\"Enter First Number: \"))\n",
    "num2 = int(input(\"Enter Second Number: \"))\n",
    "\n",
    "print(\"Enter which operation would you like to perform?\")\n",
    "ch = input(\"Enter any of these char for specific operation +,-,*,/,//,%: \")\n",
    "\n",
    "result = 0\n",
    "if ch == '+':\n",
    "    result = num1 + num2\n",
    "elif ch == '-':\n",
    "    result = num1 - num2\n",
    "elif ch == '*':\n",
    "    result = num1 * num2\n",
    "elif ch == '/':\n",
    "    result = num1 / num2\n",
    "elif ch == '//':\n",
    "    result = num1 // num2\n",
    "elif ch == '%':\n",
    "    result = num1 % num2\n",
    "else:\n",
    "    print(\"Please select proper operation!!\")\n",
    "\n",
    "print(num1, ch , num2, \":\", result)"
   ]
  },
  {
   "cell_type": "code",
   "execution_count": 11,
   "id": "b156b8d8",
   "metadata": {},
   "outputs": [
    {
     "name": "stdout",
     "output_type": "stream",
     "text": [
      "Enter First Number: 0.4\n",
      "Enter Second Number: 0.3\n",
      "Enter which operation would you like to perform?\n",
      "Enter any of these char for specific operation +,-,*,/,//,%: +\n",
      "0.4 + 0.3 : 0.7\n"
     ]
    }
   ],
   "source": [
    "# Using Float Numbers:\n",
    "\n",
    "num1 = float(input(\"Enter First Number: \"))\n",
    "num2 = float(input(\"Enter Second Number: \"))\n",
    "\n",
    "print(\"Enter which operation would you like to perform?\")\n",
    "ch = input(\"Enter any of these char for specific operation +,-,*,/,//,%: \")\n",
    "\n",
    "result = 0\n",
    "if ch == '+':\n",
    "    result = num1 + num2\n",
    "elif ch == '-':\n",
    "    result = num1 - num2\n",
    "elif ch == '*':\n",
    "    result = num1 * num2\n",
    "elif ch == '/':\n",
    "    result = num1 / num2\n",
    "elif ch == '//':\n",
    "    result = num1 // num2\n",
    "elif ch == '%':\n",
    "    result = num1 % num2\n",
    "else:\n",
    "    print(\"Please select proper operation!!\")\n",
    "\n",
    "print(num1, ch , num2, \":\", result)"
   ]
  },
  {
   "cell_type": "code",
   "execution_count": 12,
   "id": "78efc6c5",
   "metadata": {},
   "outputs": [
    {
     "name": "stdout",
     "output_type": "stream",
     "text": [
      "enter the your temp. in fahrenheit: 90\n",
      "90.0\n",
      "Temperature in Celsius is: \n",
      "32.22222222222222\n"
     ]
    }
   ],
   "source": [
    "# Write a program to convert degree Fahrenheit to Celsius\n",
    "\n",
    "Fahrenheit= float(input(\"enter the your temp. in fahrenheit: \"))\n",
    "print(Fahrenheit)\n",
    "Celsius = ((Fahrenheit-32)*5)/9  \n",
    "print(\"Temperature in Celsius is: \");  \n",
    "print(Celsius); "
   ]
  },
  {
   "cell_type": "code",
   "execution_count": 33,
   "id": "1a70fef0",
   "metadata": {},
   "outputs": [
    {
     "name": "stdout",
     "output_type": "stream",
     "text": [
      "enter your given string:amaama\n",
      "amaama\n",
      "Yes\n"
     ]
    }
   ],
   "source": [
    "# Write a python program to find whether given string is palindrome. \n",
    "\n",
    " \n",
    "def isPalindrome(s):\n",
    "    return s == s[::-1]\n",
    " \n",
    " \n",
    "# Driver code\n",
    "s = str(input(\"enter your given string:\"))\n",
    "print(s)\n",
    "ans = isPalindrome(s)\n",
    " \n",
    "if ans:\n",
    "    print(\"Yes\")\n",
    "else:\n",
    "    print(\"No\")"
   ]
  },
  {
   "cell_type": "code",
   "execution_count": 39,
   "id": "1543c99d",
   "metadata": {},
   "outputs": [
    {
     "name": "stdout",
     "output_type": "stream",
     "text": [
      "the original tuple is: (13, 56, 78, 23, 67, 89, 23)\n",
      "The summation of tuple elements are : 349\n"
     ]
    }
   ],
   "source": [
    "# Write a python program using for loop to get the sum of given tuple\n",
    "# b=(13,56,78,23,67,89,23)\n",
    "\n",
    "b=(13,56,78,23,67,89,23)\n",
    "\n",
    "print(\"the original tuple is: \"+ str(b))\n",
    "\n",
    "tupleSum = 0\n",
    "for i in b:\n",
    "    tupleSum += i\n",
    " \n",
    "# printing result\n",
    "print(\"The summation of tuple elements are : \" + str(tupleSum))"
   ]
  },
  {
   "cell_type": "code",
   "execution_count": 47,
   "id": "ba5e2a05",
   "metadata": {},
   "outputs": [
    {
     "name": "stdout",
     "output_type": "stream",
     "text": [
      "Sum: 600\n"
     ]
    }
   ],
   "source": [
    "# Write a python program to find the sum of dictionary values\n",
    "\n",
    "def returnSum(dict):\n",
    "    \n",
    "    sum = 0\n",
    "    for i in dict:\n",
    "        sum = sum + dict[i]\n",
    "    return sum\n",
    "\n",
    "dict = {'a': 100, 'b': 200, 'c': 300}\n",
    "print(\"Sum:\", returnSum(dict))"
   ]
  },
  {
   "cell_type": "code",
   "execution_count": 48,
   "id": "0c17a2da",
   "metadata": {},
   "outputs": [],
   "source": [
    "# Write a python program using inline function lambda to find the sum of list\n",
    "\n",
    "\n"
   ]
  },
  {
   "cell_type": "code",
   "execution_count": 56,
   "id": "1d602920",
   "metadata": {},
   "outputs": [
    {
     "name": "stdout",
     "output_type": "stream",
     "text": [
      "The multiplication of Matrix a and I =  [[9, 10, 11], [12, 13, 14], [15, 16, 17]]\n"
     ]
    }
   ],
   "source": [
    "# Write a python program to multiply an Identity matrix of dimension 3-by-3 with given matrix\n",
    "\n",
    "a = [[9,10, 11],\n",
    "     [12, 13, 14],\n",
    "     [15, 16, 17]]\n",
    "\n",
    "\n",
    "I = [[1, 0, 0],\n",
    "    [0, 1, 0],\n",
    "    [0, 0, 1]]\n",
    "\n",
    "\n",
    "Mul  = [[0,0,0],\n",
    "       [0,0,0],\n",
    "       [0,0,0]]\n",
    "\n",
    "#To Multiply a and I matrices\n",
    "for i in range(len(a)):\n",
    "    for j in range(len(I[0])):\n",
    "        for k in range(len(I)):\n",
    "            Mul[i][k] += a[i][k] * I[k][j]\n",
    "\n",
    "#To Print the matrix\n",
    "print(\"The multiplication of Matrix a and I = \", Mul)"
   ]
  },
  {
   "cell_type": "code",
   "execution_count": 60,
   "id": "88e785c4",
   "metadata": {},
   "outputs": [
    {
     "name": "stdout",
     "output_type": "stream",
     "text": [
      "[[10 12 31 21]\n",
      " [41 54 12 10]\n",
      " [15 12 20 22]\n",
      " [12 52 45 78]]\n",
      "True\n",
      "False\n",
      "True\n",
      "False\n"
     ]
    }
   ],
   "source": [
    "# Write a program to Check whether a NumPy array contains a specified row\n",
    "\n",
    "import numpy\n",
    "\n",
    "arr = numpy.array([[10,12,31,21],\n",
    "                  [41,54,12,10],\n",
    "                  [15,12,20,22],\n",
    "                  [12,52,45,78]])\n",
    "print(arr)\n",
    "\n",
    "print([10,12,31,21] in arr.tolist())\n",
    "print([41,54,12,25] in arr.tolist())\n",
    "print([15,12,20,22] in arr.tolist())\n",
    "print([12,10,54,8] in arr.tolist())"
   ]
  },
  {
   "cell_type": "code",
   "execution_count": 63,
   "id": "ef2919ca",
   "metadata": {},
   "outputs": [
    {
     "name": "stdout",
     "output_type": "stream",
     "text": [
      "[ 9 10 11 12 13 14 15 16 17]\n"
     ]
    },
    {
     "data": {
      "text/plain": [
       "array([ 9, 10, 11, 12, 13, 14, 15, 16, 17])"
      ]
     },
     "execution_count": 63,
     "metadata": {},
     "output_type": "execute_result"
    }
   ],
   "source": [
    "# Write a python program to flatten the NumPy matrix of size 3-by-3 \n",
    "\n",
    "import numpy as np\n",
    "  \n",
    "# declare matrix with np\n",
    "gfg = np.array([[9, 10, 11],[12, 13, 14],[15, 16, 17]])\n",
    "  \n",
    "# using array.flatten() method\n",
    "flat_gfg = gfg.flatten(order='A')\n",
    "print(flat_gfg)\n",
    "\n",
    "# other method:\n",
    "\n",
    "import numpy as np\n",
    "  \n",
    "# declare matrix with np\n",
    "gfg = np.array([[9, 10, 11],[12, 13, 14],[15, 16, 17]])\n",
    "  \n",
    "# using array.flatten() method\n",
    "gfg.flatten()"
   ]
  },
  {
   "cell_type": "code",
   "execution_count": 66,
   "id": "20358a12",
   "metadata": {},
   "outputs": [
    {
     "name": "stdout",
     "output_type": "stream",
     "text": [
      "[10 20 30 40 50]\n",
      "int32\n",
      "[10. 20. 30. 40. 50.]\n",
      "float64\n"
     ]
    }
   ],
   "source": [
    "# Given a NumPy array whose underlying data is of 'int32' type. Change the dtype of the given object to\n",
    "# 'float64'.\n",
    "# a=[10, 20, 30, 40, 50]\n",
    "\n",
    "import numpy as np\n",
    "\n",
    "arr = np.array([10, 20, 30, 40, 50])\n",
    "\n",
    "print(arr)\n",
    "\n",
    "print(arr.dtype)\n",
    "\n",
    "arr = arr.astype('float64')\n",
    "\n",
    "print(arr)\n",
    "  \n",
    "print(arr.dtype)"
   ]
  },
  {
   "cell_type": "code",
   "execution_count": 67,
   "id": "76e11f41",
   "metadata": {},
   "outputs": [
    {
     "name": "stdout",
     "output_type": "stream",
     "text": [
      "[[28 40 22]\n",
      " [24 26 58]\n",
      " [30 72 34]]\n"
     ]
    }
   ],
   "source": [
    "# Write a python program to add matrices of dimension 3-by-3 with given matrix \n",
    "\n",
    "import numpy as np\n",
    "\n",
    "a =[[ 9, 10, 11],\n",
    "    [12, 13, 14],\n",
    "    [15, 16, 17,]]\n",
    "\n",
    "b =[[19, 30, 11],\n",
    "    [12, 13, 44],\n",
    "    [15, 56, 17]]\n",
    "\n",
    "add = np.array(a) + np.array(b)\n",
    "\n",
    "print(add)"
   ]
  },
  {
   "cell_type": "code",
   "execution_count": 68,
   "id": "2d176f4f",
   "metadata": {},
   "outputs": [
    {
     "name": "stdout",
     "output_type": "stream",
     "text": [
      "[[ 80  80 100]\n",
      " [109 118  70]\n",
      " [136  90 160]]\n"
     ]
    }
   ],
   "source": [
    "# Write a python program to subtract matrices of dimension 3-by-3 with given matrix\n",
    "\n",
    "import numpy as np\n",
    "\n",
    "a=[[99, 110, 111],\n",
    "[121, 131, 114],\n",
    "[151, 146, 177]]\n",
    "\n",
    "b=[[19, 30, 11],\n",
    "   [12, 13, 44],\n",
    "   [15, 56, 17]]\n",
    "\n",
    "sub= np.array(a) - np.array(b)\n",
    "\n",
    "print(sub)"
   ]
  },
  {
   "cell_type": "code",
   "execution_count": 71,
   "id": "b76d5f39",
   "metadata": {},
   "outputs": [
    {
     "name": "stdout",
     "output_type": "stream",
     "text": [
      "10.0\n"
     ]
    }
   ],
   "source": [
    "# Write a program in python using NumPy to find the matrix mean.\n",
    "\n",
    "import numpy as np\n",
    "\n",
    "arr = np.matrix('[10,2,14,20,6,8]')\n",
    "\n",
    "arr1 = arr.mean()\n",
    "\n",
    "print(arr1)"
   ]
  },
  {
   "cell_type": "code",
   "execution_count": 73,
   "id": "c72beed6",
   "metadata": {},
   "outputs": [
    {
     "name": "stdout",
     "output_type": "stream",
     "text": [
      "[[19 30 11]\n",
      " [12 13 44]\n",
      " [15 56 17]]\n",
      "(3, 3)\n"
     ]
    }
   ],
   "source": [
    "# Write a python program to count the number of elements along the rows and columns for given matrix \n",
    "\n",
    "import numpy as np\n",
    "\n",
    "matrix = np.array([[19,30,11],[12,13,44],[15,56,17]])\n",
    "\n",
    "print(matrix)\n",
    "\n",
    "print(matrix.shape)"
   ]
  },
  {
   "cell_type": "code",
   "execution_count": 75,
   "id": "5d02f1c9",
   "metadata": {},
   "outputs": [
    {
     "data": {
      "text/plain": [
       "[<matplotlib.lines.Line2D at 0x17547f246a0>]"
      ]
     },
     "execution_count": 75,
     "metadata": {},
     "output_type": "execute_result"
    },
    {
     "data": {
      "image/png": "[encoded data removed]",
      "text/plain": [
       "<Figure size 432x288 with 1 Axes>"
      ]
     },
     "metadata": {
      "needs_background": "light"
     },
     "output_type": "display_data"
    }
   ],
   "source": [
    "# Write a python Matplotlib program to plot graph between x & y coordinates for below values:\n",
    "\n",
    "import numpy as np\n",
    "import matplotlib.pyplot as plt\n",
    "\n",
    "x = [1, 2, 3, 4, 5, 6, 7, 8]\n",
    "y = [2, 3, 1, 3, 1, 4, 2, 3]\n",
    "\n",
    "# x-label\n",
    "plt.xlabel('Sales')\n",
    "\n",
    "#y-label \n",
    "plt.ylabel('Margin')\n",
    "\n",
    "#For giving the title\n",
    "plt.title('Projection of sale and margin')\n",
    "\n",
    "# plotting the data\n",
    "plt.plot(x,y)\n"
   ]
  },
  {
   "cell_type": "code",
   "execution_count": 76,
   "id": "adc83e90",
   "metadata": {},
   "outputs": [
    {
     "data": {
      "text/plain": [
       "[<matplotlib.lines.Line2D at 0x175486c6970>]"
      ]
     },
     "execution_count": 76,
     "metadata": {},
     "output_type": "execute_result"
    },
    {
     "data": {
      "image/png": "[encoded data removed]",
      "text/plain": [
       "<Figure size 432x288 with 1 Axes>"
      ]
     },
     "metadata": {
      "needs_background": "light"
     },
     "output_type": "display_data"
    }
   ],
   "source": [
    "# Write a program to connect scatterplot points with line in Matplotlib?\n",
    "\n",
    "import numpy as np\n",
    "import matplotlib.pyplot as plt\n",
    "\n",
    "x = [1, 2, 3, 4, 5, 6, 7, 8]\n",
    "y = [2, 3, 1, 3, 1, 4, 2, 3]\n",
    "\n",
    "plt.title(\"Connected Scatterplot points with lines\")\n",
    "\n",
    "plt.scatter(x,y)\n",
    "\n",
    "plt.plot(x,y)"
   ]
  },
  {
   "cell_type": "code",
   "execution_count": 77,
   "id": "8240d1fe",
   "metadata": {},
   "outputs": [],
   "source": [
    "# Write a python Matplotlib program to plot cosine graph with below parametric values:\n",
    "# Amplitude = 4\n",
    "# Frequency = 50\n",
    "\n"
   ]
  },
  {
   "cell_type": "code",
   "execution_count": 90,
   "id": "fece1399",
   "metadata": {},
   "outputs": [
    {
     "data": {
      "image/png": "[encoded data removed]",
      "text/plain": [
       "<Figure size 432x288 with 1 Axes>"
      ]
     },
     "metadata": {
      "needs_background": "light"
     },
     "output_type": "display_data"
    }
   ],
   "source": [
    "# Write a program to visualize the total profit of all months using line plot.\n",
    "\n",
    "import pandas as pd\n",
    "import matplotlib.pyplot as plt\n",
    "\n",
    "df = pd.read_csv(r\"C:\\Users\\NISHIT\\Downloads\\Sales.csv\")\n",
    "profitList = df['total_profit'].tolist()\n",
    "monthList = df['month_name'].tolist()\n",
    "plt.plot(monthList, profitList, label = 'Month-wise Profit data of last year')\n",
    "plt.xlabel('month name')\n",
    "plt.ylabel('profit in dollar')\n",
    "plt.xticks(monthList)\n",
    "plt.title('Company profit per month')\n",
    "plt.yticks([100000, 200000, 300000, 400000, 500000])\n",
    "plt.show()"
   ]
  },
  {
   "cell_type": "code",
   "execution_count": 96,
   "id": "dee2e2b5",
   "metadata": {},
   "outputs": [
    {
     "data": {
      "image/png": "[encoded data removed]",
      "text/plain": [
       "<Figure size 432x288 with 1 Axes>"
      ]
     },
     "metadata": {
      "needs_background": "light"
     },
     "output_type": "display_data"
    }
   ],
   "source": [
    "# Write a program to visualize total profit of all months and show line plot with the following Style\n",
    "# properties.\n",
    "# Line Style dotted and Line-color should be blue\n",
    "# Show legend at the upper right location.\n",
    "# X label name = Month Number\n",
    "# Y label name = Item Sold units number\n",
    "# Add a circle marker\n",
    "# Line marker color as yellow\n",
    "# Line width should be 5\n",
    "\n",
    "import pandas as pd\n",
    "import matplotlib.pyplot as plt\n",
    "\n",
    "df = pd.read_csv(r\"C:\\Users\\NISHIT\\Downloads\\Sales.csv\")\n",
    "profitList = df['total_profit'].tolist()\n",
    "monthList = df['month_name'].tolist()\n",
    "\n",
    "plt.plot(monthList, profitList, label = 'Profit data of last year', \n",
    "      color='b', marker='o', markerfacecolor='y', \n",
    "      linestyle='--', linewidth=5)\n",
    "      \n",
    "plt.xlabel('Month Number')\n",
    "plt.ylabel('Item Sold units number')\n",
    "plt.legend(loc='upper right')\n",
    "plt.title('Company Sales data of last year')\n",
    "plt.xticks(monthList)\n",
    "plt.yticks([100000, 200000, 300000, 400000, 500000])\n",
    "plt.show()"
   ]
  },
  {
   "cell_type": "code",
   "execution_count": 103,
   "id": "dfe81af2",
   "metadata": {},
   "outputs": [
    {
     "data": {
      "image/png": "[encoded data removed]",
      "text/plain": [
       "<Figure size 432x288 with 1 Axes>"
      ]
     },
     "metadata": {},
     "output_type": "display_data"
    }
   ],
   "source": [
    "# Using pie chart visualize total unit’s sale data for last year for each product.\n",
    "\n",
    "import pandas as pd\n",
    "import matplotlib.pyplot as plt\n",
    "\n",
    "df = pd.read_csv(r\"C:\\Users\\NISHIT\\Downloads\\Sales.csv\")\n",
    "monthList  = df ['month_name'].tolist()\n",
    "\n",
    "labels = ['A','B','C','D','E']\n",
    "salesData = [df ['A'].sum(), df ['B'].sum(), df ['C'].sum(), df ['D'].sum(), df ['E'].sum()]\n",
    "\n",
    "plt.axis(\"equal\")\n",
    "\n",
    "plt.pie(salesData, autopct = '%1.1f%%', labels=labels)\n",
    "plt.legend(loc=4)\n",
    "plt.show()"
   ]
  },
  {
   "cell_type": "code",
   "execution_count": 115,
   "id": "be4d373d",
   "metadata": {},
   "outputs": [
    {
     "data": {
      "image/png": "[encoded data removed]",
      "text/plain": [
       "<Figure size 432x288 with 1 Axes>"
      ]
     },
     "metadata": {
      "needs_background": "light"
     },
     "output_type": "display_data"
    }
   ],
   "source": [
    "# Write a python Matplotlib program to plot y=x^2 (parabola) and add text \"Parabola $Y = x^2$\" in the\n",
    "# plot.\n",
    "\n",
    "import matplotlib.pyplot as plt\n",
    "import numpy as np\n",
    "  \n",
    "# x = np.arange(-10, 10, 0.01)\n",
    "y = x**2\n",
    "  \n",
    "#adding text inside the plot\n",
    "plt.text(-5,60,'Parabola $Y = x^2$', fontsize = 22)\n",
    "  \n",
    "plt.plot(x, y, c='g')\n",
    "  \n",
    "plt.xlabel(\"X-axis\", fontsize = 15)\n",
    "plt.ylabel(\"Y-axis\",fontsize = 15)\n",
    "  \n",
    "plt.show()"
   ]
  },
  {
   "cell_type": "code",
   "execution_count": 130,
   "id": "d6f4c464",
   "metadata": {},
   "outputs": [
    {
     "name": "stderr",
     "output_type": "stream",
     "text": [
      "C:\\Users\\NISHIT\\AppData\\Local\\Temp\\ipykernel_23260\\2466495854.py:14: UserWarning: Matplotlib is currently using agg, which is a non-GUI backend, so cannot show the figure.\n",
      "  plt.show()\n"
     ]
    },
    {
     "data": {
      "image/png": "[encoded data removed]",
      "text/plain": [
       "<Figure size 432x288 with 1 Axes>"
      ]
     },
     "metadata": {
      "needs_background": "light"
     },
     "output_type": "display_data"
    }
   ],
   "source": [
    "# Write a python Matplotlib program to visualize a bar plot for given values\n",
    "# For X axis, a=[12,3,4,5]\n",
    "# For Y axis, b=[16,234,25,90,32]\n",
    "\n",
    "\n",
    "\n",
    "import numpy as np\n",
    "import matplotlib.pyplot as plt\n",
    "\n",
    "a = np.array([12,3,4,5])\n",
    "b = np.array([16,25,90,32])\n",
    "\n",
    "plt.bar(a,b)\n",
    "plt.show()"
   ]
  },
  {
   "cell_type": "code",
   "execution_count": null,
   "id": "a312019a",
   "metadata": {},
   "outputs": [],
   "source": []
  }
 ],
 "metadata": {
  "kernelspec": {
   "display_name": "Python 3 (ipykernel)",
   "language": "python",
   "name": "python3"
  },
  "language_info": {
   "codemirror_mode": {
    "name": "ipython",
    "version": 3
   },
   "file_extension": ".py",
   "mimetype": "text/x-python",
   "name": "python",
   "nbconvert_exporter": "python",
   "pygments_lexer": "ipython3",
   "version": "3.9.12"
  }
 },
 "nbformat": 4,
 "nbformat_minor": 5
}
